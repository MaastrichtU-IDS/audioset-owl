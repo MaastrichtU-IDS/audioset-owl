{
 "cells": [
  {
   "cell_type": "markdown",
   "metadata": {},
   "source": [
    "# Generate and edit the AudioSet ontology\n",
    "\n",
    "Using [Owlready2](https://owlready2.readthedocs.io/en/latest/index.html) package\n",
    "\n",
    "First import the library and define the local `ontologies` folder. If an URL is given, first searches for a local copy of the OWL file and, if not found, tries to download it from the Internet."
   ]
  },
  {
   "cell_type": "code",
   "execution_count": 1,
   "metadata": {},
   "outputs": [
    {
     "name": "stderr",
     "output_type": "stream",
     "text": [
      "* Owlready2 * Warning: optimized Cython parser module 'owlready2_optimized' is not available, defaulting to slower Python implementation\n"
     ]
    }
   ],
   "source": [
    "from owlready2 import *\n",
    "\n",
    "onto_path.append(\"/notebooks/ontologies\")"
   ]
  },
  {
   "cell_type": "markdown",
   "metadata": {},
   "source": [
    "## Create and load ontologies\n",
    "\n",
    "Create the AudioSet ontology and load the Pizza ontology from the Internet (for example purpose)"
   ]
  },
  {
   "cell_type": "code",
   "execution_count": 2,
   "metadata": {},
   "outputs": [],
   "source": [
    "audioset_onto = get_ontology(\"https://w3id.org/audioset/ontology\")\n",
    "\n",
    "pizza_onto = get_ontology(\"http://www.lesfleursdunormal.fr/static/_downloads/pizza_onto.owl\").load()"
   ]
  },
  {
   "cell_type": "markdown",
   "metadata": {},
   "source": [
    "## Add classes and properties\n",
    "\n",
    "See [Owlready2 documentation](https://owlready2.readthedocs.io/en/latest/index.html) for:\n",
    "* [Properties](https://owlready2.readthedocs.io/en/latest/properties.html)\n",
    "* [Classes](https://owlready2.readthedocs.io/en/latest/class.html)"
   ]
  },
  {
   "cell_type": "code",
   "execution_count": 6,
   "metadata": {},
   "outputs": [],
   "source": [
    "with audioset_onto:\n",
    "    class HumanSounds(Thing):\n",
    "        pass\n",
    "    class HumanVoice(HumanSounds):\n",
    "        pass\n",
    "    class Accent(Thing):\n",
    "        pass\n",
    "    class has_accent(ObjectProperty):\n",
    "        domain    = [HumanVoice]\n",
    "        range     = [Accent]\n",
    "    class description(ObjectProperty):\n",
    "        range     = [str]"
   ]
  },
  {
   "cell_type": "markdown",
   "metadata": {},
   "source": [
    "## Explore an ontology\n",
    "\n",
    "List an ontology classes and properties"
   ]
  },
  {
   "cell_type": "code",
   "execution_count": 7,
   "metadata": {},
   "outputs": [
    {
     "name": "stdout",
     "output_type": "stream",
     "text": [
      "https://w3id.org/audioset/ontology#HumanVoice\n",
      "[ontology.HumanSounds, ontology.HumanVoice, ontology.Accent]\n",
      "[ontology.has_accent, ontology.description]\n"
     ]
    }
   ],
   "source": [
    "print(audioset_onto.HumanVoice.iri)\n",
    "print(list(audioset_onto.classes()))\n",
    "print(list(audioset_onto.object_properties()))"
   ]
  },
  {
   "cell_type": "markdown",
   "metadata": {},
   "source": [
    "## Add metadata to the ontology"
   ]
  },
  {
   "cell_type": "code",
   "execution_count": 8,
   "metadata": {},
   "outputs": [],
   "source": [
    "audioset_onto.metadata.comment.append(\"my comment\")"
   ]
  },
  {
   "cell_type": "markdown",
   "metadata": {},
   "source": [
    "## Save ontology file"
   ]
  },
  {
   "cell_type": "code",
   "execution_count": 9,
   "metadata": {},
   "outputs": [],
   "source": [
    "# Formats available: rdfxml or ntriples\n",
    "audioset_onto.save(file = \"ontologies/audioset.owl\", format = \"rdfxml\")"
   ]
  },
  {
   "cell_type": "code",
   "execution_count": null,
   "metadata": {},
   "outputs": [],
   "source": []
  },
  {
   "cell_type": "code",
   "execution_count": null,
   "metadata": {},
   "outputs": [],
   "source": []
  }
 ],
 "metadata": {
  "kernelspec": {
   "display_name": "Python 3",
   "language": "python",
   "name": "python3"
  },
  "language_info": {
   "codemirror_mode": {
    "name": "ipython",
    "version": 3
   },
   "file_extension": ".py",
   "mimetype": "text/x-python",
   "name": "python",
   "nbconvert_exporter": "python",
   "pygments_lexer": "ipython3",
   "version": "3.8.2"
  }
 },
 "nbformat": 4,
 "nbformat_minor": 4
}
