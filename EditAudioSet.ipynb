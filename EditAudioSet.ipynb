{
 "cells": [
  {
   "cell_type": "markdown",
   "metadata": {},
   "source": [
    "# Generate the AudioSet ontology\n",
    "\n",
    "Using [OwlReady2](https://owlready2.readthedocs.io/en/latest/index.html) package. Ontology documentation published at https://maastrichtu-ids.github.io/audioset-owl\n",
    "\n",
    "First define the Notebook parameters for [papermill](https://papermill.readthedocs.io/en/latest/usage-parameterize.html)"
   ]
  },
  {
   "cell_type": "code",
   "execution_count": 1,
   "metadata": {
    "tags": [
     "parameters"
    ]
   },
   "outputs": [],
   "source": [
    "# Papermill parameters. Do not delete this cell.\n",
    "output_format = 'rdfxml'\n",
    "audioset_ontology_uri = 'https://w3id.org/audioset'"
   ]
  },
  {
   "cell_type": "markdown",
   "metadata": {},
   "source": [
    "Import the library and define the local `ontologies` folder. If an URL is given, first searches for a local copy of the OWL file and, if not found, tries to download it from the Internet."
   ]
  },
  {
   "cell_type": "code",
   "execution_count": 2,
   "metadata": {},
   "outputs": [
    {
     "name": "stderr",
     "output_type": "stream",
     "text": [
      "* Owlready2 * Warning: optimized Cython parser module 'owlready2_optimized' is not available, defaulting to slower Python implementation\n"
     ]
    }
   ],
   "source": [
    "from owlready2 import *\n",
    "import types\n",
    "\n",
    "if output_format == 'ntriples':\n",
    "    output_extension = 'nt'\n",
    "else:\n",
    "    output_extension = 'rdf'\n",
    "\n",
    "global audioset_onto \n",
    "global audioset_curated_hash\n",
    "onto_path.append(\"/notebooks/ontologies\")"
   ]
  },
  {
   "cell_type": "markdown",
   "metadata": {},
   "source": [
    "### Create and load ontologies\n",
    "\n",
    "Create the AudioSet ontology and load the Pizza ontology from the Internet (for example purpose)"
   ]
  },
  {
   "cell_type": "code",
   "execution_count": 3,
   "metadata": {},
   "outputs": [],
   "source": [
    "audioset_onto = get_ontology(audioset_ontology_uri)\n",
    "\n",
    "pizza_onto = get_ontology(\"http://www.lesfleursdunormal.fr/static/_downloads/pizza_onto.owl\").load()"
   ]
  },
  {
   "cell_type": "markdown",
   "metadata": {},
   "source": [
    "### Create AudioSet OWL ontology from the JSON\n",
    "\n",
    "* Get [AudioSet ontology JSON from GitHub](https://github.com/audioset/ontology)\n",
    "    * [AudioSet Top classes](https://research.google.com/audioset/ontology/index.html): Human sounds, Animal, Music, Sounds of things, Natural sounds, source-ambiguous things, \"Channel, environment and background\"\n",
    "* Add classes respecting hierarchy provided in the JSON through the `child_ids` field\n",
    "\n",
    "See [OwlReady2 documentation](https://owlready2.readthedocs.io/en/latest/index.html) for:\n",
    "* [Dynamic Classes](https://owlready2.readthedocs.io/en/latest/class.html#creating-classes-dynamically)\n",
    "* [Add annotations to a Class](https://owlready2.readthedocs.io/en/latest/annotations.html?highlight=comment#adding-an-annotation): `comment`, `isDefinedBy`, `label`, `seeAlso`, `backwardCompatibleWith`, `deprecated`, `incompatibleWith`, `priorVersion`, `versionInfo`\n",
    "* [Properties](https://owlready2.readthedocs.io/en/latest/properties.html)\n",
    "\n",
    "Note: classes with multiple parents are properly defined, see `ChirpTweet` or the graph visualization as example"
   ]
  },
  {
   "cell_type": "code",
   "execution_count": 4,
   "metadata": {
    "scrolled": true
   },
   "outputs": [],
   "source": [
    "import requests, json\n",
    "audioset_json = json.loads(requests.get(\"https://raw.githubusercontent.com/audioset/ontology/master/ontology.json\").text)"
   ]
  },
  {
   "cell_type": "code",
   "execution_count": 5,
   "metadata": {},
   "outputs": [],
   "source": [
    "def generate_owl_class(class_json, parent_class):\n",
    "    \"\"\"Recursively generates OWL classes and instances, original hierarchy respected using child_ids.\"\"\"\n",
    "    with audioset_onto:\n",
    "        NewClass = types.new_class(class_json['uri_id'], (parent_class,))\n",
    "        NewClass.label = locstr(class_json['name'], lang = \"en\")\n",
    "        NewClass.comment = locstr(class_json['description'], lang = \"en\")\n",
    "        NewClass.comment = class_json['id']\n",
    "        if class_json['citation_uri']:\n",
    "            NewClass.comment = class_json['citation_uri']\n",
    "        if class_json['positive_examples']:\n",
    "            # Generate instances\n",
    "            for youtube_example in class_json['positive_examples']:\n",
    "                NewClass(comment = 'https://' + youtube_example)\n",
    "    for child in class_json['child_ids']:\n",
    "        generate_owl_class(audioset_curated_hash[child], NewClass)"
   ]
  },
  {
   "cell_type": "code",
   "execution_count": 6,
   "metadata": {},
   "outputs": [
    {
     "name": "stdout",
     "output_type": "stream",
     "text": [
      "Number of classes in the original AudioSet JSON: 632\n"
     ]
    }
   ],
   "source": [
    "c = 0\n",
    "# Create a hash using google audioset ID as key\n",
    "audioset_curated_hash = {}\n",
    "for row in audioset_json:\n",
    "    # Generate the ID that will be used for the ontology URI\n",
    "    uri_id = row['name'].replace(',', '').replace(')', '').replace('(', '').replace('.', '').replace(\"'\", '').replace(\";\", '')\n",
    "    uri_id = uri_id.title().replace(' ', '').replace('-', '')\n",
    "    audioset_curated_hash[row['id']] = row\n",
    "    audioset_curated_hash[row['id']]['uri_id'] = uri_id\n",
    "    c += 1\n",
    "print('Number of classes in the original AudioSet JSON: ' + str(c))\n",
    "    \n",
    "# Recursively generates classes starting from AudioSet top classes\n",
    "audioset_top_classes = ['/m/0dgw9r', '/m/0jbk', '/m/04rlf', '/t/dd00041', '/m/059j3w', '/t/dd00098', '/t/dd00123']\n",
    "for top_class in audioset_top_classes:\n",
    "    generate_owl_class(audioset_curated_hash[top_class], Thing)"
   ]
  },
  {
   "cell_type": "markdown",
   "metadata": {},
   "source": [
    "### Example to generate properties with domain and ranges"
   ]
  },
  {
   "cell_type": "code",
   "execution_count": 7,
   "metadata": {},
   "outputs": [],
   "source": [
    "# with audioset_onto:\n",
    "#     class Accent(Thing):\n",
    "#         pass\n",
    "#     class has_accent(ObjectProperty):\n",
    "#         domain    = [HumanVoice]\n",
    "#         range     = [Accent]\n",
    "#     class description(ObjectProperty):\n",
    "#         range     = [str]"
   ]
  },
  {
   "cell_type": "markdown",
   "metadata": {},
   "source": [
    "### Add metadata to the ontology"
   ]
  },
  {
   "cell_type": "code",
   "execution_count": 8,
   "metadata": {},
   "outputs": [],
   "source": [
    "audioset_onto.metadata.comment.append(\"OWL Ontology for the AudioSet ontology from Google defined in JSON.\")"
   ]
  },
  {
   "cell_type": "markdown",
   "metadata": {},
   "source": [
    "### Save the ontology file\n",
    "\n",
    "Ontology files saved in the `ontologies` folder. \n",
    "\n",
    "2 formats available, defined in the papermill parameters (at the start of the notebook or in the `papermill-config.json` file):\n",
    "* `rdfxml`\n",
    "* `ntriples`"
   ]
  },
  {
   "cell_type": "code",
   "execution_count": 9,
   "metadata": {},
   "outputs": [],
   "source": [
    "audioset_onto.save(file = \"ontologies/audioset.\" + output_extension, format = output_format)"
   ]
  },
  {
   "cell_type": "markdown",
   "metadata": {},
   "source": [
    "# Explore the ontology\n",
    "\n",
    "**With OwlReady2**, e.g. list an ontology classes and properties."
   ]
  },
  {
   "cell_type": "code",
   "execution_count": 10,
   "metadata": {},
   "outputs": [
    {
     "name": "stdout",
     "output_type": "stream",
     "text": [
      "https://w3id.org/audioset#HumanVoice\n",
      "[]\n",
      "audioset.insidesmallroom1\n",
      "audioset.insidesmallroom2\n",
      "audioset.insidesmallroom3\n",
      "audioset.insidesmallroom4\n",
      "audioset.insidesmallroom5\n",
      "audioset.insidesmallroom6\n",
      "audioset.insidesmallroom7\n",
      "audioset.insidesmallroom8\n"
     ]
    }
   ],
   "source": [
    "# Get a class IRI:\n",
    "print(audioset_onto.HumanVoice.iri)\n",
    "# List all 682 classes:\n",
    "#print(list(audioset_onto.classes()))\n",
    "# List object properties:\n",
    "print(list(audioset_onto.object_properties()))\n",
    "# List a class instances:\n",
    "for i in audioset_onto.InsideSmallRoom.instances(): print(i)"
   ]
  },
  {
   "cell_type": "markdown",
   "metadata": {},
   "source": [
    "### Use Ontospy to analyze the ontology\n",
    "\n",
    "Load the ontology file with `ontospy`, then:\n",
    "* print top classes and the class tree\n",
    "* print instances of a class"
   ]
  },
  {
   "cell_type": "code",
   "execution_count": 11,
   "metadata": {},
   "outputs": [
    {
     "name": "stdout",
     "output_type": "stream",
     "text": [
      "\u001b[32mReading: <ontologies/audioset.rdf>\u001b[0m\n",
      ".. trying rdf serialization: <xml>\u001b[0m\n",
      "\u001b[1m..... success!\u001b[0m\n",
      "\u001b[37m----------\n",
      "Loaded 12223 triples.\n",
      "----------\u001b[0m\n",
      "\u001b[32mRDF sources loaded successfully: 1 of 1.\u001b[0m\n",
      "\u001b[37m..... 'ontologies/audioset.rdf'\u001b[0m\n",
      "\u001b[37m----------\u001b[0m\n"
     ]
    },
    {
     "name": "stderr",
     "output_type": "stream",
     "text": [
      "\u001b[32mScanning entities...\u001b[0m\n",
      "\u001b[2m----------\u001b[0m\n",
      "\u001b[2mOntologies.........: 1\u001b[0m\n",
      "\u001b[2mClasses............: 632\u001b[0m\n",
      "\u001b[2mProperties.........: 0\u001b[0m\n",
      "\u001b[2m..annotation.......: 0\u001b[0m\n",
      "\u001b[2m..datatype.........: 0\u001b[0m\n",
      "\u001b[2m..object...........: 0\u001b[0m\n",
      "\u001b[2mConcepts (SKOS)....: 0\u001b[0m\n",
      "\u001b[2mShapes (SHACL).....: 0\u001b[0m\n",
      "\u001b[2m----------\u001b[0m\n"
     ]
    }
   ],
   "source": [
    "import ontospy\n",
    "audioset_spy = ontospy.Ontospy(\"ontologies/audioset.rdf\", verbose=True)"
   ]
  },
  {
   "cell_type": "code",
   "execution_count": 12,
   "metadata": {},
   "outputs": [
    {
     "data": {
      "text/plain": [
       "[<Class *https://w3id.org/audioset#Animal*>,\n",
       " <Class *https://w3id.org/audioset#ChannelEnvironmentAndBackground*>,\n",
       " <Class *https://w3id.org/audioset#HumanSounds*>,\n",
       " <Class *https://w3id.org/audioset#Music*>,\n",
       " <Class *https://w3id.org/audioset#NaturalSounds*>,\n",
       " <Class *https://w3id.org/audioset#SoundsOfThings*>,\n",
       " <Class *https://w3id.org/audioset#SourceAmbiguousSounds*>]"
      ]
     },
     "execution_count": 12,
     "metadata": {},
     "output_type": "execute_result"
    }
   ],
   "source": [
    "# audioset_spy.printClassTree()\n",
    "audioset_spy.toplayer_classes"
   ]
  },
  {
   "cell_type": "code",
   "execution_count": 13,
   "metadata": {},
   "outputs": [
    {
     "name": "stdout",
     "output_type": "stream",
     "text": [
      "https://w3id.org/audioset#sigh1 audioset:sigh1\n",
      "\u001b[31mhttps://w3id.org/audioset#sigh1\u001b[0m\u001b[0m\n",
      "\u001b[30m=> http://www.w3.org/2000/01/rdf-schema#comment\u001b[0m\n",
      "\u001b[2m.... https://youtu.be/XOphuM8ZUhM?start=560&end=570\u001b[39m\u001b[0m\n",
      "\u001b[30m=> http://www.w3.org/1999/02/22-rdf-syntax-ns#type\u001b[0m\n",
      "\u001b[2m.... https://w3id.org/audioset#Sigh\u001b[39m\u001b[0m\n",
      "\u001b[30m=> http://www.w3.org/1999/02/22-rdf-syntax-ns#type\u001b[0m\n",
      "\u001b[2m.... http://www.w3.org/2002/07/owl#NamedIndividual\u001b[39m\u001b[0m\n",
      "\n",
      "https://w3id.org/audioset#sigh2 audioset:sigh2\n",
      "\u001b[31mhttps://w3id.org/audioset#sigh2\u001b[0m\u001b[0m\n",
      "\u001b[30m=> http://www.w3.org/1999/02/22-rdf-syntax-ns#type\u001b[0m\n",
      "\u001b[2m.... https://w3id.org/audioset#Sigh\u001b[39m\u001b[0m\n",
      "\u001b[30m=> http://www.w3.org/2000/01/rdf-schema#comment\u001b[0m\n",
      "\u001b[2m.... https://youtu.be/giY25pWyJxM?start=140&end=150\u001b[39m\u001b[0m\n",
      "\u001b[30m=> http://www.w3.org/1999/02/22-rdf-syntax-ns#type\u001b[0m\n",
      "\u001b[2m.... http://www.w3.org/2002/07/owl#NamedIndividual\u001b[39m\u001b[0m\n",
      "\n"
     ]
    }
   ],
   "source": [
    "# Print instances of Sigh class\n",
    "audioset_spy.get_class('Sigh')[0]\n",
    "for instance in audioset_spy.get_class('Sigh')[0].instances:\n",
    "        print(instance.uri, instance.qname)\n",
    "        instance.printTriples()"
   ]
  },
  {
   "cell_type": "markdown",
   "metadata": {},
   "source": [
    "### Visualize with Ontospy docs\n",
    "\n",
    "Experimental, it is recommended to generate the documentation from the commandline (cf. `README.md` file) "
   ]
  },
  {
   "cell_type": "code",
   "execution_count": 14,
   "metadata": {},
   "outputs": [],
   "source": [
    "# from ontospy.ontodocs.viz.viz_html_single import *\n",
    "\n",
    "# v = HTMLVisualizer(audioset_spy) # => instantiate the visualization object\n",
    "# v.build(\"/notebooks/docs\") # => render visualization. You can pass an 'output_path' parameter too\n",
    "# v.preview() # => open in browser"
   ]
  },
  {
   "cell_type": "markdown",
   "metadata": {},
   "source": [
    "### Visualize with WebVOWL\n",
    "\n",
    "Use the URL to the ontology file:\n",
    "\n",
    "[http://www.visualdataweb.de/webvowl/#iri=https://raw.githubusercontent.com/MaastrichtU-IDS/audioset-owl/master/ontologies/audioset.rdf](http://www.visualdataweb.de/webvowl/#iri=https://raw.githubusercontent.com/MaastrichtU-IDS/audioset-owl/master/ontologies/audioset.rdf)"
   ]
  },
  {
   "cell_type": "markdown",
   "metadata": {},
   "source": [
    "### Load the ontology RDF with `rdflib`\n",
    "\n",
    "Use `rdflib` and `networkx` to load the data in the graph and display it (not working with the ontology size, to be improved.\n",
    "\n",
    "Visualize as graph using networkx"
   ]
  },
  {
   "cell_type": "code",
   "execution_count": 6,
   "metadata": {
    "tags": [
     "outputPrepend"
    ]
   },
   "outputs": [
    {
     "output_type": "stream",
     "name": "stdout",
     "text": [
      "ps://w3id.org/audioset#Harp\nhttps://w3id.org/audioset#SonicBoom\nhttps://w3id.org/audioset#Skidding\nhttps://w3id.org/audioset#Digestive\nhttps://w3id.org/audioset#Oboe\nhttps://w3id.org/audioset#WindChime\nhttps://w3id.org/audioset#BabyCryInfantCry\nhttps://w3id.org/audioset#SoulMusic\nhttps://w3id.org/audioset#Scrape\nhttps://w3id.org/audioset#PowerTool\nhttps://w3id.org/audioset#SlapSmack\nhttps://w3id.org/audioset#AcousticGuitar\nhttps://w3id.org/audioset#AmbulanceSiren\nhttps://w3id.org/audioset#Mantra\nhttps://w3id.org/audioset#Quack\nhttps://w3id.org/audioset#AircraftEngine\nhttps://w3id.org/audioset#ChuckleChortle\nhttps://w3id.org/audioset#Boom\nhttps://w3id.org/audioset#Yawn\nhttps://w3id.org/audioset#HumanGroupActions\nhttps://w3id.org/audioset#Animal\nhttps://w3id.org/audioset#Sizzle\nhttps://w3id.org/audioset#SocaMusic\nhttps://w3id.org/audioset#Glass\nhttps://w3id.org/audioset#Pour\nhttps://w3id.org/audioset#Biting\nhttps://w3id.org/audioset#WolfWhistling\nhttps://w3id.org/audioset#Techno\nhttps://w3id.org/audioset#Wheeze\nhttps://w3id.org/audioset#ElectricToothbrush\nhttps://w3id.org/audioset#Ping\nhttps://w3id.org/audioset#SingingBowl\nhttps://w3id.org/audioset#Harmonica\nhttps://w3id.org/audioset#Whip\nhttps://w3id.org/audioset#Maraca\nhttps://w3id.org/audioset#Banjo\nhttps://w3id.org/audioset#Crackle\nhttps://w3id.org/audioset#Cricket\nhttps://w3id.org/audioset#VelcroHookAndLoopFastener\nhttps://w3id.org/audioset#AirHornTruckHorn\nhttps://w3id.org/audioset#Screaming\nhttps://w3id.org/audioset#NoiseMusic\nhttps://w3id.org/audioset#Song\nhttps://w3id.org/audioset#Thunderstorm\nhttps://w3id.org/audioset#DonkeyAss\nhttps://w3id.org/audioset#Gobble\nhttps://w3id.org/audioset#MusicMood\nhttps://w3id.org/audioset#Babbling\nhttps://w3id.org/audioset#Sonar\nhttps://w3id.org/audioset#Bagpipes\nhttps://w3id.org/audioset#Meow\nhttps://w3id.org/audioset#Boing\nhttps://w3id.org/audioset#Rimshot\nhttps://w3id.org/audioset#WhimperDog\nhttps://w3id.org/audioset#NeighWhinny\nhttps://w3id.org/audioset#DomesticSoundsHomeSounds\nhttps://w3id.org/audioset#JingleBell\nhttps://w3id.org/audioset#Loop\nhttps://w3id.org/audioset#NonMotorizedLandVehicle\nhttps://w3id.org/audioset#MiscellaneousSources\nhttps://w3id.org/audioset#Booing\nhttps://w3id.org/audioset#Gargling\nhttps://w3id.org/audioset#FemaleSinging\nhttps://w3id.org/audioset#MusicForChildren\nhttps://w3id.org/audioset#Blender\nhttps://w3id.org/audioset#SubwayMetroUnderground\nhttps://w3id.org/audioset#Engine\nhttps://w3id.org/audioset#Hiss\nhttps://w3id.org/audioset#ChristianMusic\nhttps://w3id.org/audioset#BirthdayMusic\nhttps://w3id.org/audioset#WeddingMusic\nhttps://w3id.org/audioset#SurfaceContact\nhttps://w3id.org/audioset#Whispering\nhttps://w3id.org/audioset#PopMusic\nhttps://w3id.org/audioset#WildAnimals\nhttps://w3id.org/audioset#AlarmClock\nhttps://w3id.org/audioset#Reverberation\nhttps://w3id.org/audioset#Helicopter\nhttps://w3id.org/audioset#VideoGameMusic\nhttps://w3id.org/audioset#WhiteNoise\nhttps://w3id.org/audioset#BassDrum\nhttps://w3id.org/audioset#Chime\nhttps://w3id.org/audioset#MusicalEnsemble\nhttps://w3id.org/audioset#Drip\nhttps://w3id.org/audioset#Snoring\nhttps://w3id.org/audioset#UkGarage\nhttps://w3id.org/audioset#Headphones\nhttps://w3id.org/audioset#Echo\nhttps://w3id.org/audioset#Firecracker\nhttps://w3id.org/audioset#SoundReproduction\nhttps://w3id.org/audioset#CivilDefenseSiren\nhttps://w3id.org/audioset#Gurgling\nhttps://w3id.org/audioset#ChewingMastication\nhttps://w3id.org/audioset#BowWow\nhttps://w3id.org/audioset#SopranoSaxophone\nhttps://w3id.org/audioset#Scissors\nhttps://w3id.org/audioset#Slosh\nhttps://w3id.org/audioset#Rumble\nhttps://w3id.org/audioset#Glockenspiel\nhttps://w3id.org/audioset#Bouncing\nhttps://w3id.org/audioset#MiddleEasternMusic\nhttps://w3id.org/audioset#Bell\nhttps://w3id.org/audioset#Sampler\nhttps://w3id.org/audioset#TrainHorn\nhttps://w3id.org/audioset#Roll\nhttps://w3id.org/audioset#Vibration\nhttps://w3id.org/audioset#Dub\nhttps://w3id.org/audioset#ChildSinging\nhttps://w3id.org/audioset#Distortion\nhttps://w3id.org/audioset#StringSection\nhttps://w3id.org/audioset#Roar\nhttps://w3id.org/audioset#Insect\nhttps://w3id.org/audioset#Throbbing\nhttps://w3id.org/audioset#Squeak\nhttps://w3id.org/audioset#FunkCarioca\nhttps://w3id.org/audioset#GuitarAmplifier\nhttps://w3id.org/audioset#SteelGuitarSlideGuitar\nhttps://w3id.org/audioset#ElectronicOrgan\nhttps://w3id.org/audioset#Typing\nhttps://w3id.org/audioset#BeepBleep\nhttps://w3id.org/audioset#Fireworks\nhttps://w3id.org/audioset#Clunk\nhttps://w3id.org/audioset#RodentsRatsMice\nhttps://w3id.org/audioset#Eruption\nhttps://w3id.org/audioset#Squish\nhttps://w3id.org/audioset#Spray\nhttps://w3id.org/audioset#ElectronicTuner\nhttps://w3id.org/audioset#Screech\nhttps://w3id.org/audioset#Television\nhttps://w3id.org/audioset#Whir\nhttps://w3id.org/audioset#SewingMachine\nhttps://w3id.org/audioset#Tabla\nhttps://w3id.org/audioset#Piano\nhttps://w3id.org/audioset#Fowl\nhttps://w3id.org/audioset#BowedStringInstrument\nhttps://w3id.org/audioset#BoatWaterVehicle\nhttps://w3id.org/audioset#ChirpTone\nhttps://w3id.org/audioset#Sniff\nhttps://w3id.org/audioset#Pulse\nhttps://w3id.org/audioset#Skateboard\nhttps://w3id.org/audioset#Cough\nhttps://w3id.org/audioset#Mellotron\nhttps://w3id.org/audioset#AirConditioning\nhttps://w3id.org/audioset#ElectronicMusic\nhttps://w3id.org/audioset#Chipmunk\nhttps://w3id.org/audioset#Speech\nhttps://w3id.org/audioset#OutsideUrbanOrManmade\nhttps://w3id.org/audioset#FolkMusic\nhttps://w3id.org/audioset#TapeHiss\nhttps://w3id.org/audioset#Hands\nhttps://w3id.org/audioset#BirdVocalizationBirdCallBirdSong\nhttps://w3id.org/audioset#Harmonic\nhttps://w3id.org/audioset#Bird\nhttps://w3id.org/audioset#PsychedelicRock\nhttps://w3id.org/audioset#ReversingBeeps\nhttps://w3id.org/audioset#IndependentMusic\nhttps://w3id.org/audioset#Orchestra\nhttps://w3id.org/audioset#DrumBeat\nhttps://w3id.org/audioset#Rain\nhttps://w3id.org/audioset#DuckCallHuntingTool\nhttps://w3id.org/audioset#GramophoneRecord\nhttps://w3id.org/audioset#InsideSmallRoom\nhttps://w3id.org/audioset#Mouse\nhttps://w3id.org/audioset#Bark\nhttps://w3id.org/audioset#Thunder\nhttps://w3id.org/audioset#SailboatSailingShip\nhttps://w3id.org/audioset#Didgeridoo\nhttps://w3id.org/audioset#Ringtone\nhttps://w3id.org/audioset#OutsideRuralOrNatural\nhttps://w3id.org/audioset#InsideLargeRoomOrHall\nhttps://w3id.org/audioset#RailroadCarTrainWagon\nhttps://w3id.org/audioset#BusySignal\nhttps://w3id.org/audioset#KeysJangling\nhttps://w3id.org/audioset#HowlWind\nhttps://w3id.org/audioset#BrassInstrument\nhttps://w3id.org/audioset#Afrobeat\nhttps://w3id.org/audioset#CatCommunication\nhttps://w3id.org/audioset#Clatter\nhttps://w3id.org/audioset#MusicalNote\nhttps://w3id.org/audioset#IceCreamTruckIceCreamVan\nhttps://w3id.org/audioset#Motorcycle\nhttps://w3id.org/audioset#Organ\nhttps://w3id.org/audioset#Twang\nhttps://w3id.org/audioset#Onomatopoeia\nhttps://w3id.org/audioset#PunkRock\nhttps://w3id.org/audioset#Theremin\nhttps://w3id.org/audioset#Toot\nhttps://w3id.org/audioset#ElectricGuitar\nhttps://w3id.org/audioset#SwingMusic\nhttps://w3id.org/audioset#MicrowaveOven\nhttps://w3id.org/audioset#PowerWindowsElectricWindows\nhttps://w3id.org/audioset#Gong\nhttps://w3id.org/audioset#Vibraphone\nhttps://w3id.org/audioset#Waterfall\nhttps://w3id.org/audioset#Cello\nhttps://w3id.org/audioset#Stir\nhttps://w3id.org/audioset#Pant\nhttps://w3id.org/audioset#TenderMusic\nhttps://w3id.org/audioset#Cheering\nhttps://w3id.org/audioset#ProgressiveRock\nhttps://w3id.org/audioset#Rapping\nhttps://w3id.org/audioset#JingleTinkle\nhttps://w3id.org/audioset#OtoacousticEmission\nhttps://w3id.org/audioset#Cymbal\nhttps://w3id.org/audioset#Honk\nhttps://w3id.org/audioset#Purr\nhttps://w3id.org/audioset#DroneMusic\nhttps://w3id.org/audioset#ZipperClothing\nhttps://w3id.org/audioset#RockAndRoll\nhttps://w3id.org/audioset#Bus\nhttps://w3id.org/audioset#Siren\nhttps://w3id.org/audioset#Shuffle\nhttps://w3id.org/audioset#Shatter\nhttps://w3id.org/audioset#Gush\nhttps://w3id.org/audioset#PinkNoise\nhttps://w3id.org/audioset#FingerSnapping\nhttps://w3id.org/audioset#KeyboardMusical\nhttps://w3id.org/audioset#DrumRoll\nhttps://w3id.org/audioset#Tick\nhttps://w3id.org/audioset#Infrasound\nhttps://w3id.org/audioset#Strum\nhttps://w3id.org/audioset#Electronica\nhttps://w3id.org/audioset#Liquid\nhttps://w3id.org/audioset#HiHat\nhttps://w3id.org/audioset#ThemeMusic\nhttps://w3id.org/audioset#FryingFood\nhttps://w3id.org/audioset#Chainsaw\nhttps://w3id.org/audioset#SourceAmbiguousSounds\nhttps://w3id.org/audioset#Goat\nhttps://w3id.org/audioset#AltoSaxophone\nhttps://w3id.org/audioset#Croak\nhttps://w3id.org/audioset#TrafficNoiseRoadwayNoise\nhttps://w3id.org/audioset#WailMoan\nhttps://w3id.org/audioset#CryingSobbing\nhttps://w3id.org/audioset#ExcitingMusic\nhttps://w3id.org/audioset#PackingTapeDuctTape\nhttps://w3id.org/audioset#PluckedStringInstrument\nhttps://w3id.org/audioset#VehicleHornCarHornHonking\nhttps://w3id.org/audioset#Buzz\nhttps://w3id.org/audioset#Lullaby\nhttps://w3id.org/audioset#Toothbrush\nhttps://w3id.org/audioset#ThumpThud\nhttps://w3id.org/audioset#Telephone\nhttps://w3id.org/audioset#RespiratorySounds\nhttps://w3id.org/audioset#ChannelEnvironmentAndBackground\nhttps://w3id.org/audioset#BattleCry\nhttps://w3id.org/audioset#TraditionalMusic\nhttps://w3id.org/audioset#BirdFlightFlappingWings\nhttps://w3id.org/audioset#Squawk\nhttps://w3id.org/audioset#Turkey\nhttps://w3id.org/audioset#MusicalConcepts\nhttps://w3id.org/audioset#MalletPercussion\nhttps://w3id.org/audioset#Shout\nhttps://w3id.org/audioset#FireAlarm\nhttps://w3id.org/audioset#Camera\nhttps://w3id.org/audioset#EmergencyVehicle\nhttps://w3id.org/audioset#Caw\nhttps://w3id.org/audioset#Trumpet\nhttps://w3id.org/audioset#Accordion\nhttps://w3id.org/audioset#BackgroundNoise\nhttps://w3id.org/audioset#BassGuitar\nhttps://w3id.org/audioset#SpecificImpactSounds\nhttps://w3id.org/audioset#CutlerySilverware\nhttps://w3id.org/audioset#NewAgeMusic\nhttps://w3id.org/audioset#Bluegrass\nhttps://w3id.org/audioset#SingleLensReflexCamera\nhttps://w3id.org/audioset#Aircraft\nhttps://w3id.org/audioset#MaleSpeechManSpeaking\nhttps://w3id.org/audioset#AmbientMusic\nhttps://w3id.org/audioset#Foghorn\nhttps://w3id.org/audioset#Doorbell\nhttps://w3id.org/audioset#Yodeling\nhttps://w3id.org/audioset#Mp3\nhttps://w3id.org/audioset#HeartMurmur\nhttps://w3id.org/audioset#Frog\nhttps://w3id.org/audioset#MotorVehicleRoad\nhttps://w3id.org/audioset#HouseMusic\nhttps://w3id.org/audioset#Microphone\nhttps://w3id.org/audioset#Rustle\nhttps://w3id.org/audioset#MusicGenre\nhttps://w3id.org/audioset#Car\nhttps://w3id.org/audioset#Scratch\nhttps://w3id.org/audioset#Cat\nhttps://w3id.org/audioset#DoubleBass\nhttps://w3id.org/audioset#Raindrop\nhttps://w3id.org/audioset#Boiling\nhttps://w3id.org/audioset#Applause\nhttps://w3id.org/audioset#PropellerAirscrew\nhttps://w3id.org/audioset#CrumplingCrinkling\nhttps://w3id.org/audioset#ThroatClearing\nhttps://w3id.org/audioset#TranceMusic\nhttps://w3id.org/audioset#RattleInstrument\nhttps://w3id.org/audioset#CellphoneBuzzVibratingAlert\nhttps://w3id.org/audioset#DrumKit\nhttps://w3id.org/audioset#Cowbell\nhttps://w3id.org/audioset#Drum\nhttps://w3id.org/audioset#Ocean\nhttps://w3id.org/audioset#Stream\nhttps://w3id.org/audioset#Alarm\nhttps://w3id.org/audioset#RoaringCatsLionsTigers\nhttps://w3id.org/audioset#FillWithLiquid\nhttps://w3id.org/audioset#Giggle\nhttps://w3id.org/audioset#FieldRecording\nhttps://w3id.org/audioset#BellyLaugh\nhttps://w3id.org/audioset#DanceMusic\nhttps://w3id.org/audioset#SinkFillingOrWashing\nhttps://w3id.org/audioset#Mosquito\nhttps://w3id.org/audioset#Train\nhttps://w3id.org/audioset#Country\nhttps://w3id.org/audioset#Ukulele\nhttps://w3id.org/audioset#Tools\nhttps://w3id.org/audioset#WoodBlock\nhttps://w3id.org/audioset#Clarinet\nhttps://w3id.org/audioset#TinnitusRingingInTheEars\nhttps://w3id.org/audioset#Steelpan\nhttps://w3id.org/audioset#Creak\nhttps://w3id.org/audioset#Wood\nhttps://w3id.org/audioset#Kwaito\nhttps://w3id.org/audioset#HairDryer\nhttps://w3id.org/audioset#DishesPotsAndPans\nhttps://w3id.org/audioset#FrenchHorn\nhttps://w3id.org/audioset#MediumEngineMidFrequency\nhttps://w3id.org/audioset#TrainWhistle\nhttps://w3id.org/audioset#Sawing\nhttps://w3id.org/audioset#ShufflingCards\nhttps://w3id.org/audioset#MusicRole\nhttps://w3id.org/audioset#RainOnSurface\nhttps://w3id.org/audioset#PoliceCarSiren\nhttps://w3id.org/audioset#SmokeDetectorSmokeAlarm\nhttps://w3id.org/audioset#Truck\nhttps://w3id.org/audioset#CanidaeDogsWolves\nhttps://w3id.org/audioset#Tap\nhttps://w3id.org/audioset#Moo\nhttps://w3id.org/audioset#ComputerKeyboard\nhttps://w3id.org/audioset#Water\nhttps://w3id.org/audioset#Bugle\nhttps://w3id.org/audioset#SnareDrum\nhttps://w3id.org/audioset#WhooshSwooshSwish\nhttps://w3id.org/audioset#DialTone\nhttps://w3id.org/audioset#GrimeMusic\nhttps://w3id.org/audioset#RockMusic\nhttps://w3id.org/audioset#Gasp\nhttps://w3id.org/audioset#Plop\nhttps://w3id.org/audioset#BassFrequencyRange\nhttps://w3id.org/audioset#Oink\nhttps://w3id.org/audioset#Clicking\nhttps://w3id.org/audioset#TubularBells\nhttps://w3id.org/audioset#DeformableShell\nhttps://w3id.org/audioset#Ship\nhttps://w3id.org/audioset#WaterTapFaucet\nhttps://w3id.org/audioset#Drone\nhttps://w3id.org/audioset#BeeWaspEtc\nhttps://w3id.org/audioset#Clang\nhttps://w3id.org/audioset#DrumMachine\nhttps://w3id.org/audioset#HeavyEngineLowFrequency\nhttps://w3id.org/audioset#Whistling\nhttps://w3id.org/audioset#ChristmasMusic\nhttps://w3id.org/audioset#SoundtrackMusic\nhttps://w3id.org/audioset#Bassline\nhttps://w3id.org/audioset#RhodesPiano\nhttps://w3id.org/audioset#Knock\nhttps://w3id.org/audioset#EnvironmentalNoise\nhttps://w3id.org/audioset#Radio\nhttps://w3id.org/audioset#ChirpTweet\nhttps://w3id.org/audioset#ElectricShaverElectricRazor\nhttps://w3id.org/audioset#Cluck\nhttps://w3id.org/audioset#BicycleBell\nhttps://w3id.org/audioset#EngineStarting\nhttps://w3id.org/audioset#Sitar\nhttps://w3id.org/audioset#Silence\nhttps://w3id.org/audioset#MusicOfAfrica\nhttps://w3id.org/audioset#HumanLocomotion\nhttps://w3id.org/audioset#SoundEffect\nhttps://w3id.org/audioset#Breathing\nhttps://w3id.org/audioset#Grunge\nhttps://w3id.org/audioset#SmashCrash\nhttps://w3id.org/audioset#Door\nhttps://w3id.org/audioset#CompactDisc\nhttps://w3id.org/audioset#Patter\nhttps://w3id.org/audioset#Dubstep\nhttps://w3id.org/audioset#TickTock\nhttps://w3id.org/audioset#LivestockFarmAnimalsWorkingAnimals\nhttps://w3id.org/audioset#MotorboatSpeedboat\nhttps://w3id.org/audioset#InsidePublicSpace\nhttps://w3id.org/audioset#ScaryMusic\nhttps://w3id.org/audioset#Cumbia\nhttps://w3id.org/audioset#Yell\nhttps://w3id.org/audioset#EngineKnocking\nhttps://w3id.org/audioset#MusicOfBollywood\nhttps://w3id.org/audioset#Clapping\nhttps://w3id.org/audioset#Chant\nhttps://w3id.org/audioset#Harpsichord\nhttps://w3id.org/audioset#VacuumCleaner\nhttps://w3id.org/audioset#Groan\nhttps://w3id.org/audioset#JetEngine\nhttps://w3id.org/audioset#Beat\nhttps://w3id.org/audioset#FlyHousefly\nhttps://w3id.org/audioset#Percussion\nhttps://w3id.org/audioset#Cornet\nhttps://w3id.org/audioset#RaceCarAutoRacing\nhttps://w3id.org/audioset#Blare\nhttps://w3id.org/audioset#LawnMower\nhttps://w3id.org/audioset#Disco\nhttps://w3id.org/audioset#Choir\nhttps://w3id.org/audioset#BriefTone\nhttps://w3id.org/audioset#Snicker\nhttps://w3id.org/audioset#Beatboxing\nhttps://w3id.org/audioset#DrawerOpenOrClose\nhttps://w3id.org/audioset#Owl\nhttps://w3id.org/audioset#RatchetPawl\nhttps://w3id.org/audioset#Synthesizer\nhttps://w3id.org/audioset#Trombone\nhttps://w3id.org/audioset#SteamWhistle\nhttps://w3id.org/audioset#OtherSourceless\nhttps://w3id.org/audioset#Ska\nhttps://w3id.org/audioset#Printer\nhttps://w3id.org/audioset#RingingOfResonator\nhttps://w3id.org/audioset#ChorusEffect\nhttps://w3id.org/audioset#Noise\nhttps://w3id.org/audioset#Dog\nhttps://w3id.org/audioset#Vehicle\nhttps://w3id.org/audioset#NaturalSounds\nhttps://w3id.org/audioset#Shofar\nhttps://w3id.org/audioset#Drill\nhttps://w3id.org/audioset#Snake\nhttps://w3id.org/audioset#Grunt\nhttps://w3id.org/audioset#TrickleDribble\nhttps://w3id.org/audioset#ChinkClink\nhttps://w3id.org/audioset#DingDong\nhttps://w3id.org/audioset#TrainWheelsSquealing\nhttps://w3id.org/audioset#Grind\nhttps://w3id.org/audioset#TelephoneBellRinging\nhttps://w3id.org/audioset#Cacophony\nhttps://w3id.org/audioset#Run\nhttps://w3id.org/audioset#Humming\nhttps://w3id.org/audioset#Splinter\nhttps://w3id.org/audioset#Crushing\nhttps://w3id.org/audioset#MarimbaXylophone\nhttps://w3id.org/audioset#Sanding\nhttps://w3id.org/audioset#FilingRasp\nhttps://w3id.org/audioset#DomesticAnimalsPets\nhttps://w3id.org/audioset#Kuduro\nhttps://w3id.org/audioset#KettleWhistle\nhttps://w3id.org/audioset#Funk\nhttps://w3id.org/audioset#MachineGun\nhttps://w3id.org/audioset#BabyLaughter\nhttps://w3id.org/audioset#WindInstrumentWoodwindInstrument\nhttps://w3id.org/audioset#Bleat\nhttps://w3id.org/audioset#Rub\nhttps://w3id.org/audioset#Pig\nhttps://w3id.org/audioset#WavesSurf\nhttps://w3id.org/audioset#BassInstrumentRole\nhttps://w3id.org/audioset#Fart\nhttps://w3id.org/audioset#ClassicalMusic\nhttps://w3id.org/audioset#TelephoneDialingDtmf\nhttps://w3id.org/audioset#RhythmAndBlues\nhttps://w3id.org/audioset#GospelMusic\nhttps://w3id.org/audioset#Typewriter\nhttps://w3id.org/audioset#HumanSounds\nhttps://w3id.org/audioset#SnortHorse\nhttps://w3id.org/audioset#Puff\nhttps://w3id.org/audioset#Sigh\nhttps://w3id.org/audioset#MusicOfLatinAmerica\nhttps://w3id.org/audioset#SalsaMusic\nhttps://w3id.org/audioset#Hoot\nhttps://w3id.org/audioset#WhackThwack\nhttps://w3id.org/audioset#Opera\nhttps://w3id.org/audioset#NarrationMonologue\nhttps://w3id.org/audioset#TappingGuitarTechnique\nhttps://w3id.org/audioset#TrapMusic\nhttps://w3id.org/audioset#GullSeagull\nhttps://w3id.org/audioset#SplashSplatter\nhttps://w3id.org/audioset#Jazz\nhttps://w3id.org/audioset#EffectsUnit\nhttps://w3id.org/audioset#Goose\nhttps://w3id.org/audioset#HeartSoundsHeartbeat\nhttps://w3id.org/audioset#Crowd\nhttps://w3id.org/audioset#Music\nhttps://w3id.org/audioset#Wind\nhttps://w3id.org/audioset#ChoppingFood\nhttps://w3id.org/audioset#CashRegister\nhttps://w3id.org/audioset#Ding\nhttps://w3id.org/audioset#ScratchingPerformanceTechnique\nhttps://w3id.org/audioset#Sneeze\nhttps://w3id.org/audioset#SoundsOfThings\nhttps://w3id.org/audioset#JingleMusic\nhttps://w3id.org/audioset#FireEngineFireTruckSiren\nhttps://w3id.org/audioset#Blues\nhttps://w3id.org/audioset#Whimper\nhttps://w3id.org/audioset#Arrow\nhttps://w3id.org/audioset#Clavinet\nhttps://w3id.org/audioset#Sidetone\nhttps://w3id.org/audioset#Flap\nhttps://w3id.org/audioset#HeavyMetal\nhttps://w3id.org/audioset#SyntheticSinging\nhttps://w3id.org/audioset#HipHopMusic\nhttps://w3id.org/audioset#Writing\nhttps://w3id.org/audioset#ViolinFiddle\nhttps://w3id.org/audioset#Whistle\nhttps://w3id.org/audioset#Yip\nhttps://w3id.org/audioset#BurstPop\nhttps://w3id.org/audioset#ToiletFlush\nhttps://w3id.org/audioset#ClicketyClack\nhttps://w3id.org/audioset#FixedWingAircraftAirplane\nhttps://w3id.org/audioset#SpeechSynthesizer\nhttps://w3id.org/audioset#Rattle\nhttps://w3id.org/audioset#Static\nhttps://w3id.org/audioset#ChildrenPlaying\nhttps://w3id.org/audioset#Reggae\nhttps://w3id.org/audioset#Singing\nhttps://w3id.org/audioset#Bay\nhttps://w3id.org/audioset#GunshotGunfire\nhttps://w3id.org/audioset#BurpingEructation\nhttps://w3id.org/audioset#Nicker\nhttps://w3id.org/audioset#AirBrake\nhttps://w3id.org/audioset#ChildrenShouting\nhttps://w3id.org/audioset#Electro\nhttps://w3id.org/audioset#Harmony\nhttps://w3id.org/audioset#Zither\nhttps://w3id.org/audioset#Recording\nhttps://w3id.org/audioset#BackgroundMusic\nhttps://w3id.org/audioset#DrumAndBass\nhttps://w3id.org/audioset#LightEngineHighFrequency\nhttps://w3id.org/audioset#Snort\nhttps://w3id.org/audioset#Steam\nhttps://w3id.org/audioset#Fire\nhttps://w3id.org/audioset#Pizzicato\nhttps://w3id.org/audioset#MainsHum\nhttps://w3id.org/audioset#Jackhammer\nhttps://w3id.org/audioset#Explosion\nhttps://w3id.org/audioset#Zing\nhttps://w3id.org/audioset#CarPassingBy\nhttps://w3id.org/audioset#SoundEquipment\nhttps://w3id.org/audioset#Flamenco\nhttps://w3id.org/audioset#Loudspeaker\nhttps://w3id.org/audioset#PigeonDove\nhttps://w3id.org/audioset#MusicalInstrument\n"
     ]
    }
   ],
   "source": [
    "import rdflib\n",
    "from rdflib import Graph, ConjunctiveGraph, plugin, Literal, RDF, URIRef, Namespace\n",
    "from rdflib.serializer import Serializer\n",
    "from rdflib.namespace import RDFS, XSD, DC, DCTERMS, VOID, OWL, SKOS\n",
    "# from rdflib.plugins.sparql.parser import Query, UpdateUnit\n",
    "# from rdflib.plugins.sparql.processor import translateQuery\n",
    "# from rdflib.extras.external_graph_libs import rdflib_to_networkx_multidigraph\n",
    "# import networkx as nx\n",
    "# import matplotlib.pyplot as plt\n",
    "\n",
    "g = rdflib.Graph()\n",
    "result = g.parse('ontologies/audioset.rdf', format='xml')\n",
    "for owl_class in g.subjects(RDF.type, OWL.Class):\n",
    "    print(owl_class)\n",
    "# G = rdflib_to_networkx_multidigraph(result)\n",
    "\n",
    "# # # Plot Networkx instance of RDF Graph\n",
    "# pos = nx.spring_layout(G, scale=3)\n",
    "# edge_labels = nx.get_edge_attributes(G, 'r')\n",
    "# nx.draw_networkx_edge_labels(G, pos, labels=edge_labels)\n",
    "# nx.draw(G, with_labels=True)"
   ]
  },
  {
   "cell_type": "code",
   "execution_count": null,
   "metadata": {},
   "outputs": [],
   "source": []
  }
 ],
 "metadata": {
  "kernelspec": {
   "display_name": "Python 3",
   "language": "python",
   "name": "python3"
  },
  "language_info": {
   "codemirror_mode": {
    "name": "ipython",
    "version": 3
   },
   "file_extension": ".py",
   "mimetype": "text/x-python",
   "name": "python",
   "nbconvert_exporter": "python",
   "pygments_lexer": "ipython3",
   "version": "3.6.9-final"
  }
 },
 "nbformat": 4,
 "nbformat_minor": 4
}